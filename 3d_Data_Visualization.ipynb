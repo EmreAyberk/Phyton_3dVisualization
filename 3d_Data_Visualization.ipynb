{
 "cells": [
  {
   "cell_type": "code",
   "execution_count": null,
   "metadata": {},
   "outputs": [],
   "source": [
    "from mpl_toolkits.mplot3d import axes3d\n",
    "import matplotlib.pyplot as plt\n",
    "import numpy as np\n",
    "from matplotlib import style\n",
    "import plotly.graph_objects as go\n",
    "import numpy as np\n",
    "import pandas as pd\n",
    "from numpy.random import randint\n",
    "\n",
    "mydata = pd.read_csv(r\"C:\\Users\\emre.kaymaz\\Downloads\\test_data1.csv\")\n",
    "\n",
    "temp = mydata.values.tolist()\n",
    "style.use('ggplot')\n",
    "\n",
    "fig = plt.figure()\n",
    "ax1 = fig.add_subplot(111, projection='3d')\n",
    "\n",
    "\n",
    "#x3 = [0,0,0,8,2,5,6,3,7,2]\n",
    "x3 = []\n",
    "#y3 = [0,1,2,4,5,6,7,8,9,10]\n",
    "y3 = []\n",
    "z3 = np.zeros(10)\n",
    "\n",
    "\n",
    "dx = np.ones(10)\n",
    "dy = np.ones(10)\n",
    "#dz = [1,1,2,4,5,6,7,8,9,10]\n",
    "dz = []\n",
    "\n",
    "\n",
    "\n",
    "for i in range(len(temp[0])):\n",
    "    for j in range(len(temp)):\n",
    "        x3.append(i)\n",
    "        y3.append(j)\n",
    "        dz.append(temp[j][i])\n",
    "        \n",
    "print(len(x3))\n",
    "print(len(y3))\n",
    "print(len(dz))\n",
    "\n",
    "\n",
    "\n",
    "ax1.bar3d(x3, y3, z3, dx, dy, dz)\n",
    "\n",
    "\n",
    "ax1.set_xlabel('x axis')\n",
    "ax1.set_ylabel('y axis')\n",
    "ax1.set_zlabel('z axis')\n",
    "\n",
    "plt.show()"
   ]
  },
  {
   "cell_type": "code",
   "execution_count": null,
   "metadata": {},
   "outputs": [],
   "source": []
  }
 ],
 "metadata": {
  "kernelspec": {
   "display_name": "Python 3",
   "language": "python",
   "name": "python3"
  },
  "language_info": {
   "codemirror_mode": {
    "name": "ipython",
    "version": 3
   },
   "file_extension": ".py",
   "mimetype": "text/x-python",
   "name": "python",
   "nbconvert_exporter": "python",
   "pygments_lexer": "ipython3",
   "version": "3.7.3"
  }
 },
 "nbformat": 4,
 "nbformat_minor": 2
}
